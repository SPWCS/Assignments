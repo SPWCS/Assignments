{
 "cells": [
  {
   "cell_type": "markdown",
   "id": "31014e40",
   "metadata": {},
   "source": [
    "**1.Create a python program to find duplicate files by content. User will \n",
    "input path and it will scan all directories, sub-directories to find all \n",
    "duplicates files.\n",
    "Delete the found duplicate file.\n",
    "[Hint: use hashlib]**"
   ]
  },
  {
   "cell_type": "code",
   "execution_count": 4,
   "id": "f33d93c2",
   "metadata": {},
   "outputs": [
    {
     "name": "stdout",
     "output_type": "stream",
     "text": [
      "[]\n"
     ]
    }
   ],
   "source": [
    "import hashlib\n",
    "import os\n",
    "path = r'C:\\Users\\rdevnani\\Desktop\\SQL Files'\n",
    "dirList = os.listdir(path)\n",
    "hashlist=[]\n",
    "duplicate=[]\n",
    "pathDir= {path : dirList}\n",
    "for i in dirList:\n",
    "    if '.' not in i:\n",
    "        pathDir[path + '\\\\' + i]=os.listdir(path+'\\\\'+ i)\n",
    "for i in pathDir:\n",
    "    for j in pathDir[i]:\n",
    "        if '.txt' in j:\n",
    "            fileObj=open(i+'\\\\'+j)\n",
    "            str1=fileObj.read().encode()\n",
    "            hash_1=hashlib.sha256(str1)\n",
    "            if hash_1.hexdigest() in hashlist:\n",
    "                duplicate.append(i+ '\\\\' +j)\n",
    "            else:\n",
    "                hashlist.append(hash_1.hexdigest())\n",
    "            fileObj.close()\n",
    "print(duplicate)"
   ]
  },
  {
   "cell_type": "markdown",
   "id": "c10bf7f1",
   "metadata": {},
   "source": [
    "**2.Generate random Password with exact length = 6, with minimum 1 \n",
    "uppercase, 2 lowercase, 2 digits, and remaining special characters.\n",
    "Using these packages [random, strings]**\n"
   ]
  },
  {
   "cell_type": "code",
   "execution_count": null,
   "id": "fc2ac53b",
   "metadata": {},
   "outputs": [],
   "source": [
    "import string\n",
    "import random\n",
    "\n",
    "password1= \"\"\n",
    "for i in range(2):\n",
    "    password1 += random.choice(string.ascii_lowercase)\n",
    "    password1 += random.choice(string.digits)\n",
    "password1 += random.choice(string.ascii_uppercase)\n",
    "password1 += random.choice(string.punctuation)\n",
    "\n",
    "list_3=list(password1)\n",
    "new=\"\"\n",
    "random.shuffle(list_3)\n",
    "for elements in list_3:\n",
    "    new+= str(elements)\n",
    "\n",
    "print(new)\n",
    "\n"
   ]
  },
  {
   "cell_type": "markdown",
   "id": "3fb985ae",
   "metadata": {},
   "source": [
    "**3.Create 2D array and update the same 2D array provided that every \n",
    "prime number position should be replaced by cube of the positioned \n",
    "number**"
   ]
  },
  {
   "cell_type": "code",
   "execution_count": null,
   "id": "8f75323a",
   "metadata": {},
   "outputs": [],
   "source": [
    "def prime_no(num):\n",
    "    flag=False\n",
    "    if num==1:\n",
    "        return False\n",
    "    elif num>1:\n",
    "        for i in range(2,int((num/2)+1)):\n",
    "            if (num%i) == 0:\n",
    "                flag=True\n",
    "                break\n",
    "            else:\n",
    "                flag=False\n",
    "                \n",
    "    if flag:\n",
    "        return False\n",
    "    else:\n",
    "        return True\n",
    "    \n",
    "import numpy as np\n",
    "\n",
    "arr_1=np.array([[1,2,3,4],[3,24,5,7]])\n",
    "\n",
    "\n",
    "for i in range(len(arr_1)):\n",
    "    for j in range(len(arr_1[i])):\n",
    "        if prime_no(arr_1[i][j]):\n",
    "            arr_1[i][j]=(arr_1[i][j]**3)\n",
    "\n",
    "arr_1"
   ]
  },
  {
   "cell_type": "markdown",
   "id": "b1d63067",
   "metadata": {},
   "source": [
    "**4.Python program to get the sum of every cubed value and its previous \n",
    "integer.**\n"
   ]
  },
  {
   "cell_type": "code",
   "execution_count": null,
   "id": "43ee39f4",
   "metadata": {},
   "outputs": [],
   "source": [
    "def prime_no(num):\n",
    "    flag=False\n",
    "    if num==1:\n",
    "        return False\n",
    "    elif num>1:\n",
    "        for i in range(2,int((num/2)+1)):\n",
    "            if (num%i) == 0:\n",
    "                flag=True\n",
    "                break\n",
    "            else:\n",
    "                flag=False\n",
    "                \n",
    "    if flag:\n",
    "        return False\n",
    "    else:\n",
    "        return True\n",
    "    \n",
    "import numpy as np\n",
    "\n",
    "arr_1=np.array([[1,2,3,4],[8,3,5,7]])\n",
    "sum_2=0\n",
    "\n",
    "for i in range(len(arr_1)):\n",
    "    for j in range(len(arr_1[i])):\n",
    "        if prime_no(arr_1[i][j]):\n",
    "            arr_1[i][j]=(arr_1[i][j]**3)+arr_1[i][j-1]\n",
    "            \n",
    "arr_1"
   ]
  },
  {
   "cell_type": "markdown",
   "id": "d0d98308",
   "metadata": {},
   "source": [
    "**5.Given two arrays, find their intersection. Examples:\n",
    "Input:  arr1[] = [1, 3, 4, 5, 7]\n",
    "             arr2[] = [2, 3, 5, 6]**"
   ]
  },
  {
   "cell_type": "code",
   "execution_count": null,
   "id": "605999e7",
   "metadata": {},
   "outputs": [],
   "source": [
    "import numpy as np\n",
    "\n",
    "arr_1=np.array([1,2,3,4,5,7])\n",
    "arr_2=np.array([2,3,5,6])\n",
    "\n",
    "result = list(filter(lambda x: x in arr_1, arr_2))\n",
    "print(\"Intersection of arr_1 and arr_2 : \",result)\n",
    "\n"
   ]
  },
  {
   "cell_type": "markdown",
   "id": "c0dec992",
   "metadata": {},
   "source": [
    "**6. Create a 7 x 7  2D array having only multiples of 7. And return the last \n",
    "element of the same**"
   ]
  },
  {
   "cell_type": "code",
   "execution_count": null,
   "id": "11e84523",
   "metadata": {},
   "outputs": [],
   "source": [
    "arr_1=np.array([range(i,i+7) for i in range(7)])\n",
    "count=1\n",
    "for i in range(len(arr_1)):\n",
    "    for j in range(len(arr_1)):\n",
    "        arr_1[i][j]=count*7\n",
    "        count+=1\n",
    "\n",
    "arr_1"
   ]
  },
  {
   "cell_type": "code",
   "execution_count": null,
   "id": "8ca2a597",
   "metadata": {},
   "outputs": [],
   "source": [
    "#Method-2\n",
    "arr_2= [[ 7 * (i * 7 + j)for j in range(1,7)]for i in range(7)]\n",
    "arr_2"
   ]
  },
  {
   "cell_type": "markdown",
   "id": "494638d6",
   "metadata": {},
   "source": [
    "**7. Checker Board Patten using Numpy:**\n",
    "[   1   0   1   0   1   0   1\n",
    "\n",
    "   0   1   0   1   0   1   0\n",
    "   \n",
    "   1   0   1   0   1   0   1\n",
    "   \n",
    "   0   1   0   1   0   1   0\n",
    "   \n",
    "   1   0   1   0   1   0   1  ]\n"
   ]
  },
  {
   "cell_type": "code",
   "execution_count": null,
   "id": "b947689b",
   "metadata": {},
   "outputs": [],
   "source": [
    "import numpy as np\n",
    "arr_4=np.ones((10,10))\n",
    "\n",
    "arr_4[1::2,0::2]=0\n",
    "arr_4[0::2,1::2]=0\n",
    "print(arr_4)\n"
   ]
  },
  {
   "cell_type": "markdown",
   "id": "547f2793",
   "metadata": {},
   "source": [
    "**8.Create a given Matrix:**\n",
    "\n",
    "[  A,     B,     C,       D\n",
    "   \n",
    "   E,      F,     G,       H\n",
    "   \n",
    "   I,      a,      K,       L\n",
    "   \n",
    "   M,    N,     o,       P\n",
    "   \n",
    "   Q,     R,      S,       T\n",
    "   \n",
    "   U,     V,     W,      X ]\n",
    "\n",
    "**Replace all the vowels by np.nan\n",
    "A, E, I, O U  -- >  np.nan\n",
    "Return the count of the missing values**"
   ]
  },
  {
   "cell_type": "code",
   "execution_count": null,
   "id": "8d1b3c12",
   "metadata": {},
   "outputs": [],
   "source": [
    "import string\n",
    "arr_5=np.array(list(string.ascii_uppercase)[:-2]).reshape(6,4)\n",
    "arr_5=arr_5.tolist()\n",
    "count=0\n",
    "for i in range(len(arr_5)):\n",
    "    for j in range(4):\n",
    "        if arr_5[i][j]=='A' or arr_5[i][j]=='E' or arr_5[i][j]=='I' or arr_5[i][j]=='O' or arr_5[i][j]=='U':\n",
    "            count += 1\n",
    "            arr_5[i][j]=np.nan\n",
    "arr_fin=np.asarray(arr_5)\n",
    "\n",
    "print(count)\n",
    "print(arr_fin)"
   ]
  },
  {
   "cell_type": "code",
   "execution_count": null,
   "id": "43352492",
   "metadata": {},
   "outputs": [],
   "source": []
  }
 ],
 "metadata": {
  "kernelspec": {
   "display_name": "Python 3 (ipykernel)",
   "language": "python",
   "name": "python3"
  },
  "language_info": {
   "codemirror_mode": {
    "name": "ipython",
    "version": 3
   },
   "file_extension": ".py",
   "mimetype": "text/x-python",
   "name": "python",
   "nbconvert_exporter": "python",
   "pygments_lexer": "ipython3",
   "version": "3.9.13"
  }
 },
 "nbformat": 4,
 "nbformat_minor": 5
}
